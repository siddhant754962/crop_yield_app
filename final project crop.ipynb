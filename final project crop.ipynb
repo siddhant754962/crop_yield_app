{
 "cells": [
  {
   "cell_type": "code",
   "execution_count": 19,
   "id": "adc42789-0145-42e2-9a2d-62528cc44f66",
   "metadata": {},
   "outputs": [],
   "source": [
    "# If you haven't installed these yet\n",
    "# pip install pandas numpy matplotlib seaborn scikit-learn\n",
    "\n",
    "\n",
    "\n",
    "import pandas as pd\n",
    "import numpy as np\n",
    "import matplotlib.pyplot as plt\n",
    "import seaborn as sns\n",
    "\n",
    "from sklearn.model_selection import train_test_split\n",
    "from sklearn.preprocessing import PolynomialFeatures\n",
    "from sklearn.linear_model import LinearRegression\n",
    "from sklearn.metrics import mean_squared_error, r2_score"
   ]
  },
  {
   "cell_type": "code",
   "execution_count": 20,
   "id": "232dad15-65a9-4f51-ad62-11722dc3000c",
   "metadata": {},
   "outputs": [
    {
     "name": "stdout",
     "output_type": "stream",
     "text": [
      "      Area         Item  Year  hg/ha_yield  average_rain_fall_mm_per_year  \\\n",
      "0  Albania        Maize  1990        36613                         1485.0   \n",
      "1  Albania     Potatoes  1990        66667                         1485.0   \n",
      "2  Albania  Rice, paddy  1990        23333                         1485.0   \n",
      "3  Albania      Sorghum  1990        12500                         1485.0   \n",
      "4  Albania     Soybeans  1990         7000                         1485.0   \n",
      "\n",
      "   pesticides_tonnes  avg_temp  \n",
      "0              121.0     16.37  \n",
      "1              121.0     16.37  \n",
      "2              121.0     16.37  \n",
      "3              121.0     16.37  \n",
      "4              121.0     16.37  \n"
     ]
    }
   ],
   "source": [
    "# Load the dataset\n",
    "df = pd.read_csv(\"cropdata/yield_df.csv\",index_col=0)\n",
    "\n",
    "# Check the first 5 rows\n",
    "print(df.head())"
   ]
  },
  {
   "cell_type": "code",
   "execution_count": 21,
   "id": "5765c42d-d8a2-49c0-a2f2-083ee82ced2a",
   "metadata": {},
   "outputs": [],
   "source": [
    "# Target column\n",
    "y = df['hg/ha_yield']\n",
    "\n",
    "# Features (all other columns)\n",
    "X = df.drop('hg/ha_yield', axis=1)"
   ]
  },
  {
   "cell_type": "code",
   "execution_count": 22,
   "id": "ad4807cc-6f12-4326-a16d-34e825101b0b",
   "metadata": {},
   "outputs": [],
   "source": [
    "from sklearn.model_selection import train_test_split\n",
    "\n",
    "# 80% train, 20% test\n",
    "X_train, X_test, y_train, y_test = train_test_split(\n",
    "    X, y, test_size=0.2, random_state=42\n",
    ")\n"
   ]
  },
  {
   "cell_type": "code",
   "execution_count": 30,
   "id": "50131a0b-fc55-478b-bf0d-083bd4055436",
   "metadata": {},
   "outputs": [
    {
     "name": "stdout",
     "output_type": "stream",
     "text": [
      "Train Score: 0.9563675839897333\n",
      "Test Score: 0.9506182023657085\n"
     ]
    }
   ],
   "source": [
    "from sklearn.model_selection import train_test_split\n",
    "from sklearn.preprocessing import StandardScaler, PolynomialFeatures\n",
    "from sklearn.pipeline import Pipeline\n",
    "from sklearn.pipeline import Pipeline\n",
    "from sklearn.linear_model import LinearRegression\n",
    "from sklearn.compose import ColumnTransformer\n",
    "from sklearn.preprocessing import StandardScaler, PolynomialFeatures, OneHotEncoder\n",
    "\n",
    "# Categorical and numeric features\n",
    "categorical_features = [\"Item\", \"Area\"]\n",
    "numeric_features = [\"average_rain_fall_mm_per_year\", \"pesticides_tonnes\", \"avg_temp\"]\n",
    "\n",
    "# Preprocessing\n",
    "preprocessor = ColumnTransformer(\n",
    "    transformers=[\n",
    "        (\"cat\", OneHotEncoder(handle_unknown=\"ignore\", sparse_output=False), categorical_features),\n",
    "        (\"num\", StandardScaler(), numeric_features)\n",
    "    ]\n",
    ")\n",
    "\n",
    "# Full pipeline\n",
    "pipeline = Pipeline([\n",
    "    (\"preprocessor\", preprocessor),\n",
    "    (\"poly\", PolynomialFeatures(degree=2, include_bias=False)),  # avoid extra column of ones\n",
    "    (\"model\", LinearRegression())\n",
    "])\n",
    "\n",
    "# Fit the pipeline\n",
    "pipeline.fit(X_train, y_train)\n",
    "\n",
    "# Evaluate\n",
    "train_score = pipeline.score(X_train, y_train)\n",
    "test_score = pipeline.score(X_test, y_test)\n",
    "\n",
    "print(\"Train Score:\", train_score)\n",
    "print(\"Test Score:\", test_score)\n"
   ]
  },
  {
   "cell_type": "code",
   "execution_count": null,
   "id": "25bef290-575e-4597-be39-c394d0151452",
   "metadata": {},
   "outputs": [],
   "source": []
  },
  {
   "cell_type": "code",
   "execution_count": 31,
   "id": "0cf8f994-09cf-4805-914c-a85cb8c4a542",
   "metadata": {},
   "outputs": [
    {
     "name": "stdout",
     "output_type": "stream",
     "text": [
      "Predictions (clipped): [ 71782.56812499  22422.45415615  43769.28581062 177886.65606274\n",
      "  60244.03542277  33030.97940834  26944.25564726 101922.64480531\n",
      " 221745.55436275  47593.33629471]\n"
     ]
    }
   ],
   "source": [
    "# Predict on test set\n",
    "y_pred = pipeline.predict(X_test)\n",
    "\n",
    "# Clip negative predictions to 0 (crop yield can't be negative)\n",
    "y_pred = y_pred.clip(min=0)\n",
    "\n",
    "# Check first 10 predictions\n",
    "print(\"Predictions (clipped):\", y_pred[:10])\n"
   ]
  },
  {
   "cell_type": "code",
   "execution_count": null,
   "id": "72fd22dc-d582-45bd-b0a7-ac721dcd33d0",
   "metadata": {},
   "outputs": [],
   "source": []
  },
  {
   "cell_type": "code",
   "execution_count": 32,
   "id": "24504849-2ec8-47f4-9d90-bcb43e2734a2",
   "metadata": {},
   "outputs": [
    {
     "data": {
      "text/plain": [
       "['crop_yield_pipeline.pkl']"
      ]
     },
     "execution_count": 32,
     "metadata": {},
     "output_type": "execute_result"
    }
   ],
   "source": [
    "import joblib\n",
    "\n",
    "# Save the pipeline\n",
    "joblib.dump(pipeline, \"crop_yield_pipeline.pkl\")\n"
   ]
  },
  {
   "cell_type": "code",
   "execution_count": null,
   "id": "be895daf-540c-42dd-86fa-e5beb6deb92f",
   "metadata": {},
   "outputs": [],
   "source": []
  }
 ],
 "metadata": {
  "kernelspec": {
   "display_name": "Python 3 (ipykernel)",
   "language": "python",
   "name": "python3"
  },
  "language_info": {
   "codemirror_mode": {
    "name": "ipython",
    "version": 3
   },
   "file_extension": ".py",
   "mimetype": "text/x-python",
   "name": "python",
   "nbconvert_exporter": "python",
   "pygments_lexer": "ipython3",
   "version": "3.13.5"
  }
 },
 "nbformat": 4,
 "nbformat_minor": 5
}
